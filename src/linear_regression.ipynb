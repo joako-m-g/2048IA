{
  "cells": [
    {
      "cell_type": "markdown",
      "metadata": {
        "id": "view-in-github",
        "colab_type": "text"
      },
      "source": [
        "<a href=\"https://colab.research.google.com/github/joako-m-g/2048IA/blob/main/src/linear_regression.ipynb\" target=\"_parent\"><img src=\"https://colab.research.google.com/assets/colab-badge.svg\" alt=\"Open In Colab\"/></a>"
      ]
    },
    {
      "cell_type": "code",
      "source": [
        "from google.colab import drive\n",
        "drive.mount('/content/drive')"
      ],
      "metadata": {
        "colab": {
          "base_uri": "https://localhost:8080/"
        },
        "id": "cvt5UUzvhZ87",
        "outputId": "06535d2c-d9f9-4245-a370-ef4c6a452300"
      },
      "id": "cvt5UUzvhZ87",
      "execution_count": 5,
      "outputs": [
        {
          "output_type": "stream",
          "name": "stdout",
          "text": [
            "Mounted at /content/drive\n"
          ]
        }
      ]
    },
    {
      "cell_type": "markdown",
      "id": "1b37f515",
      "metadata": {
        "id": "1b37f515"
      },
      "source": [
        "### Set Up"
      ]
    },
    {
      "cell_type": "code",
      "execution_count": 2,
      "id": "aca02d39",
      "metadata": {
        "id": "aca02d39"
      },
      "outputs": [],
      "source": [
        "import pandas as pd\n",
        "import pandas as pd\n",
        "from sklearn.model_selection import train_test_split\n",
        "from sklearn.preprocessing import OneHotEncoder\n",
        "from sklearn.compose import ColumnTransformer\n",
        "from sklearn.linear_model import Ridge\n",
        "from sklearn.pipeline import Pipeline\n",
        "from sklearn.metrics import mean_squared_error, r2_score\n",
        "import numpy as np\n",
        "from funcs_aux import rolling_sales\n",
        "from datetime import timedelta\n"
      ]
    },
    {
      "cell_type": "code",
      "execution_count": 6,
      "id": "7e21ab6f",
      "metadata": {
        "id": "7e21ab6f"
      },
      "outputs": [],
      "source": [
        "data = pd.read_csv(\"drive/MyDrive/datos_unidos.csv\")"
      ]
    },
    {
      "cell_type": "code",
      "execution_count": 4,
      "id": "bfcf5768",
      "metadata": {
        "id": "bfcf5768",
        "outputId": "77fc8e95-0311-461d-cbc8-771ec7b3c255",
        "colab": {
          "base_uri": "https://localhost:8080/"
        }
      },
      "outputs": [
        {
          "output_type": "stream",
          "name": "stdout",
          "text": [
            "Index(['SKU', 'DATE', 'STORE_ID', 'PRICE', 'QUANTITY', 'TOTAL_SALES', 'REGION',\n",
            "       'CITY', 'STATE', 'STORE_TYPE', 'OPENDATE', 'CLOSEDATE',\n",
            "       'STORE_SUBGROUP_DATE_ID', 'CATEGORY', 'GROUP', 'SUBGROUP', 'GROUP_TYPE',\n",
            "       'PRICE_GROUP_ID', 'BRAND', 'INITIAL_TICKET_PRICE', 'BASE_PRICE',\n",
            "       'COSTOS', 'YEAR_OPEN', 'YEAR_CLOSE', 'MONTH_OPEN', 'MONTH_CLOSE',\n",
            "       'YEAR', 'MONTH', 'DAY', 'DAY_OF_WEEK', 'WEEK'],\n",
            "      dtype='object')\n"
          ]
        }
      ],
      "source": [
        "print(data.columns)"
      ]
    },
    {
      "cell_type": "code",
      "execution_count": 5,
      "id": "15ef29d6",
      "metadata": {
        "id": "15ef29d6",
        "outputId": "48f3651b-8a9f-4e66-d590-f9c51639a137",
        "colab": {
          "base_uri": "https://localhost:8080/"
        }
      },
      "outputs": [
        {
          "output_type": "stream",
          "name": "stdout",
          "text": [
            "          SKU        DATE STORE_ID  PRICE  QUANTITY  TOTAL_SALES     REGION  \\\n",
            "0  BEAHASH001  2021-01-01   S00068  35.53        10       355.30       West   \n",
            "1  BEAHASH001  2021-01-01   S00086  33.52         2        67.04  Southeast   \n",
            "2  BEAHASH001  2021-01-01   S00124  37.61         2        75.22  Northeast   \n",
            "3  BEAHASH001  2021-01-01   S00140  34.51         4       138.04  Southeast   \n",
            "4  BEAHASH001  2021-01-02   S00013  33.77         1        33.77  Southwest   \n",
            "\n",
            "         CITY STATE STORE_TYPE  ... COSTOS YEAR_OPEN YEAR_CLOSE MONTH_OPEN  \\\n",
            "0    Lakewood    CO    Express  ...  15.07      2018       2025         11   \n",
            "1     Raleigh    NC    Express  ...  15.07      2011       2025         12   \n",
            "2        Erie    PA     Outlet  ...  15.07      2018       2025          5   \n",
            "3  Greenville    SC       Mall  ...  15.07      2011       2025          5   \n",
            "4     El Paso    TX       Mall  ...  15.07      2019       2025         10   \n",
            "\n",
            "  MONTH_CLOSE  YEAR MONTH DAY DAY_OF_WEEK  WEEK  \n",
            "0           1  2021     1   1      Friday    53  \n",
            "1           1  2021     1   1      Friday    53  \n",
            "2           1  2021     1   1      Friday    53  \n",
            "3           1  2021     1   1      Friday    53  \n",
            "4           1  2021     1   2    Saturday    53  \n",
            "\n",
            "[5 rows x 31 columns]\n"
          ]
        }
      ],
      "source": [
        "print(data.head())"
      ]
    },
    {
      "cell_type": "code",
      "source": [
        "print(len(data))"
      ],
      "metadata": {
        "colab": {
          "base_uri": "https://localhost:8080/"
        },
        "id": "IYXVvfrXlHC7",
        "outputId": "ad9e4196-3d61-43ad-bb36-290649a384cb"
      },
      "id": "IYXVvfrXlHC7",
      "execution_count": 18,
      "outputs": [
        {
          "output_type": "stream",
          "name": "stdout",
          "text": [
            "6825953\n"
          ]
        }
      ]
    },
    {
      "cell_type": "markdown",
      "source": [
        "## Linear Regression"
      ],
      "metadata": {
        "id": "Se5AX_MW2HJV"
      },
      "id": "Se5AX_MW2HJV"
    },
    {
      "cell_type": "markdown",
      "source": [
        "Enlistamos columnas categoricas y numericas"
      ],
      "metadata": {
        "id": "16P1XFglCu8x"
      },
      "id": "16P1XFglCu8x"
    },
    {
      "cell_type": "code",
      "source": [
        "numericas = [ # No incluimos target (TOTAL_SALES)\n",
        "    'PRICE', 'COSTOS',\n",
        "    'INITIAL_TICKET_PRICE', 'BASE_PRICE',\n",
        "    'YEAR_OPEN', 'MONTH_OPEN',\n",
        "    'YEAR', 'MONTH', 'DAY', 'WEEK',\n",
        "    # Las siguientes features se generan dentro del WalkFroward\n",
        "    #'SKU_mean_7D', 'SKU_std_7D', 'SKU_mean_30D', 'SKU_std_30D', 'SKU_mean_90D', 'SKU_std_90D',\n",
        "    #'SUBGROUP_mean_7D', 'SUBGROUP_std_7D', 'SUBGROUP_mean_30D', 'SUBGROUP_std_30D', 'SUBGROUP_mean_90D', 'SUBGROUP_std_90D',\n",
        "    #'STORE_ID_mean_7D', 'STORE_ID_std_7D', 'STORE_ID_mean_30D', 'STORE_ID_std_30D', 'STORE_ID_mean_90D', 'STORE_ID_std_90D'\n",
        "]\n",
        "categoricas = [\n",
        "    'SKU', 'STORE_ID', 'REGION', 'CITY', 'STATE', 'STORE_TYPE', 'OPENDATE', 'CATEGORY', 'GROUP', 'SUBGROUP', 'GROUP_TYPE', 'PRICE_GROUP_ID', 'BRAND', 'DAY_OF_WEEK'\n",
        "]"
      ],
      "metadata": {
        "id": "mXCA8LeuCzyL"
      },
      "id": "mXCA8LeuCzyL",
      "execution_count": 32,
      "outputs": []
    },
    {
      "cell_type": "code",
      "execution_count": 33,
      "id": "5ec035d9",
      "metadata": {
        "id": "5ec035d9"
      },
      "outputs": [],
      "source": [
        "model = Ridge(alpha=1.0)\n"
      ]
    },
    {
      "cell_type": "markdown",
      "source": [
        "## WalkForward"
      ],
      "metadata": {
        "id": "p0EdkwskQQz3"
      },
      "id": "p0EdkwskQQz3"
    },
    {
      "cell_type": "code",
      "source": [
        "def walk_forward_forecast_low_ram(df, model, features, target, train_days=365, step_days=30, forecast_days=7):\n",
        "    \"\"\"\n",
        "    Walk-forward low RAM con rolling interno y manejo seguro de columnas.\n",
        "    df: DataFrame con columna 'DATE'\n",
        "    model: modelo sklearn\n",
        "    features: lista de columnas a usar como features\n",
        "    target: columna objetivo\n",
        "    train_days: tamaño inicial del set de entrenamiento\n",
        "    step_days: incremento de la ventana\n",
        "    forecast_days: horizonte de predicción\n",
        "    \"\"\"\n",
        "    # --- Asegurar tipo datetime y orden\n",
        "    df[\"DATE\"] = pd.to_datetime(df[\"DATE\"])\n",
        "    df = df.sort_values(\"DATE\").reset_index(drop=True)\n",
        "\n",
        "    results = []\n",
        "    min_date = df[\"DATE\"].min()\n",
        "    max_date = df[\"DATE\"].max()\n",
        "    start_train_end = min_date + timedelta(days=train_days)\n",
        "    date_values = df[\"DATE\"].values\n",
        "\n",
        "    # Convertir categóricas a 'category' y codificar\n",
        "    cat_cols = df.select_dtypes(include='object').columns.tolist()\n",
        "    for col in cat_cols:\n",
        "        df[col] = df[col].astype('category').cat.codes\n",
        "\n",
        "    while start_train_end + timedelta(days=forecast_days) <= max_date:\n",
        "        train_idx = date_values < start_train_end\n",
        "        test_idx  = (date_values >= start_train_end) & (date_values < start_train_end + timedelta(days=forecast_days))\n",
        "\n",
        "        if not test_idx.any() or not train_idx.any():\n",
        "            start_train_end += timedelta(days=step_days)\n",
        "            continue\n",
        "\n",
        "        df_train_window = df.loc[train_idx].copy()\n",
        "        df_test_window  = df.loc[test_idx].copy()\n",
        "\n",
        "        # --- Rolling interno solo sobre train\n",
        "        rolling_sales(df_train_window, group='SKU', windows=[7, 30, 90], std=True)\n",
        "        rolling_sales(df_train_window, group='SUBGROUP', windows=[7, 30, 90], std=True)\n",
        "        rolling_sales(df_train_window, group='STORE_ID', windows=[7, 30, 90], std=True)\n",
        "\n",
        "        # --- Llenar rolling features en test usando últimos valores de train\n",
        "        rolling_cols = [c for c in df_train_window.columns if 'mean' in c or 'std' in c]\n",
        "        for col in rolling_cols:\n",
        "            last_values = df_train_window.groupby('SKU')[col].last()\n",
        "            df_test_window[col] = df_test_window['SKU'].map(last_values).fillna(0)\n",
        "\n",
        "        # --- Asegurar que todas las columnas de features existan\n",
        "        for col in features:\n",
        "            if col not in df_train_window.columns:\n",
        "                df_train_window[col] = 0\n",
        "            if col not in df_test_window.columns:\n",
        "                df_test_window[col] = 0\n",
        "\n",
        "        # --- Selección de X e y\n",
        "        X_train = df_train_window[features]\n",
        "        y_train = df_train_window[target]\n",
        "        X_test  = df_test_window[features]\n",
        "        y_test  = df_test_window[target]\n",
        "\n",
        "        # --- Reducir cardinalidad de columnas de alta cardinalidad\n",
        "        cat_high_card = ['SKU', 'STORE_ID']\n",
        "        min_count_dict = {'SKU': 10, 'STORE_ID': 5}\n",
        "        X_train, X_test = reduce_cardinality(X_train, X_test, cat_high_card, min_count_dict)\n",
        "\n",
        "        # --- Entrenamiento y métricas\n",
        "        model.fit(X_train, y_train)\n",
        "        r2_train = r2_score(y_train, model.predict(X_train))\n",
        "        r2_test  = r2_score(y_test, model.predict(X_test))\n",
        "\n",
        "        results.append({\n",
        "            \"train_end_date\": start_train_end,\n",
        "            \"r2_train\": r2_train,\n",
        "            \"r2_test\": r2_test\n",
        "        })\n",
        "\n",
        "        start_train_end += timedelta(days=step_days)\n",
        "\n",
        "    return pd.DataFrame(results)"
      ],
      "metadata": {
        "id": "BIC2A3EQdjVw"
      },
      "id": "BIC2A3EQdjVw",
      "execution_count": 37,
      "outputs": []
    },
    {
      "cell_type": "markdown",
      "source": [
        "Funcion para reduccion de cardinalidad de variables categoricas"
      ],
      "metadata": {
        "id": "JnTa1wUwCJX2"
      },
      "id": "JnTa1wUwCJX2"
    },
    {
      "cell_type": "code",
      "source": [
        "# --- Función para reducir cardinalidad\n",
        "def reduce_cardinality(X_train, X_test, cat_high_card, min_count_dict):\n",
        "    X_train = X_train.copy()\n",
        "    X_test = X_test.copy()\n",
        "\n",
        "    for col in cat_high_card:\n",
        "        counts = X_train[col].value_counts()\n",
        "        valid = counts[counts >= min_count_dict[col]].index\n",
        "        X_train[col] = X_train[col].where(X_train[col].isin(valid), other='Other')\n",
        "        X_test[col] = X_test[col].where(X_test[col].isin(valid), other='Other')\n",
        "    return X_train, X_test\n",
        "\n"
      ],
      "metadata": {
        "id": "sBaDFal0CNBc"
      },
      "id": "sBaDFal0CNBc",
      "execution_count": 35,
      "outputs": []
    },
    {
      "cell_type": "markdown",
      "source": [
        "Hacemos una walkforward para evaluar estabilidad del modelo y evitar sobreajuste."
      ],
      "metadata": {
        "id": "545JXVFjFzRU"
      },
      "id": "545JXVFjFzRU"
    },
    {
      "cell_type": "code",
      "source": [
        "results_walk = walk_forward_forecast_low_ram(\n",
        "    data,\n",
        "    model,\n",
        "    features = categoricas + numericas,\n",
        "    target='QUANTITY'\n",
        ")\n"
      ],
      "metadata": {
        "id": "M7yHtA5NHJ2Y"
      },
      "id": "M7yHtA5NHJ2Y",
      "execution_count": 39,
      "outputs": []
    },
    {
      "cell_type": "code",
      "source": [
        "print(results_walk)"
      ],
      "metadata": {
        "id": "Pt7f5eT7tAyg",
        "outputId": "174941ad-3c19-4347-c30a-17c8ae00e6e8",
        "colab": {
          "base_uri": "https://localhost:8080/"
        }
      },
      "id": "Pt7f5eT7tAyg",
      "execution_count": 40,
      "outputs": [
        {
          "output_type": "stream",
          "name": "stdout",
          "text": [
            "   train_end_date  r2_train   r2_test\n",
            "0      2022-01-01  0.052431 -0.021940\n",
            "1      2022-01-31  0.053059 -0.006463\n",
            "2      2022-03-02  0.051717 -0.139007\n",
            "3      2022-04-01  0.057660 -0.139382\n",
            "4      2022-05-01  0.062536 -0.041970\n",
            "5      2022-05-31  0.065102 -0.343101\n",
            "6      2022-06-30  0.065497 -0.022594\n",
            "7      2022-07-30  0.063268 -0.013935\n",
            "8      2022-08-29  0.060438 -0.012503\n",
            "9      2022-09-28  0.058493  0.010222\n",
            "10     2022-10-28  0.057980  0.029997\n",
            "11     2022-11-27  0.058603 -0.100588\n",
            "12     2022-12-27  0.057849 -0.154394\n",
            "13     2023-01-26  0.057233 -0.004745\n",
            "14     2023-02-25  0.062742 -0.018949\n",
            "15     2023-03-27  0.070054 -0.070399\n",
            "16     2023-04-26  0.076861 -0.028124\n",
            "17     2023-05-26  0.081357 -0.195130\n",
            "18     2023-06-25  0.084419 -0.008845\n",
            "19     2023-07-25  0.083849 -0.025302\n",
            "20     2023-08-24  0.080560  0.001188\n",
            "21     2023-09-23  0.078929  0.007238\n",
            "22     2023-10-23  0.077313  0.024401\n",
            "23     2023-11-22  0.076144 -0.126470\n",
            "24     2023-12-22  0.075040 -0.101300\n"
          ]
        }
      ]
    },
    {
      "cell_type": "code",
      "source": [
        "# Supongamos que results_walk es el DataFrame con tus resultados\n",
        "results_walk.to_csv(\"linear_model_walk_results.csv\", index=False)\n"
      ],
      "metadata": {
        "id": "PElLY11dPj3W"
      },
      "id": "PElLY11dPj3W",
      "execution_count": 44,
      "outputs": []
    }
  ],
  "metadata": {
    "kernelspec": {
      "display_name": "Python 3",
      "name": "python3"
    },
    "language_info": {
      "codemirror_mode": {
        "name": "ipython",
        "version": 3
      },
      "file_extension": ".py",
      "mimetype": "text/x-python",
      "name": "python",
      "nbconvert_exporter": "python",
      "pygments_lexer": "ipython3",
      "version": "3.11.5"
    },
    "colab": {
      "provenance": [],
      "gpuType": "A100",
      "include_colab_link": true
    },
    "accelerator": "GPU"
  },
  "nbformat": 4,
  "nbformat_minor": 5
}