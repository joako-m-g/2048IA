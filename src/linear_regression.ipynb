{
  "cells": [
    {
      "cell_type": "markdown",
      "metadata": {
        "id": "view-in-github",
        "colab_type": "text"
      },
      "source": [
        "<a href=\"https://colab.research.google.com/github/joako-m-g/2048IA/blob/main/src/linear_regression.ipynb\" target=\"_parent\"><img src=\"https://colab.research.google.com/assets/colab-badge.svg\" alt=\"Open In Colab\"/></a>"
      ]
    },
    {
      "cell_type": "code",
      "source": [
        "from google.colab import drive\n",
        "drive.mount('/content/drive')"
      ],
      "metadata": {
        "colab": {
          "base_uri": "https://localhost:8080/"
        },
        "id": "cvt5UUzvhZ87",
        "outputId": "47ddc853-9572-4df4-db83-f1f1ce25dcc3"
      },
      "id": "cvt5UUzvhZ87",
      "execution_count": 1,
      "outputs": [
        {
          "output_type": "stream",
          "name": "stdout",
          "text": [
            "Mounted at /content/drive\n"
          ]
        }
      ]
    },
    {
      "cell_type": "markdown",
      "id": "1b37f515",
      "metadata": {
        "id": "1b37f515"
      },
      "source": [
        "### Set Up"
      ]
    },
    {
      "cell_type": "code",
      "execution_count": 20,
      "id": "aca02d39",
      "metadata": {
        "id": "aca02d39"
      },
      "outputs": [],
      "source": [
        "import pandas as pd\n",
        "import pandas as pd\n",
        "from sklearn.model_selection import train_test_split\n",
        "from sklearn.preprocessing import OneHotEncoder\n",
        "from sklearn.compose import ColumnTransformer\n",
        "from sklearn.linear_model import LinearRegression\n",
        "from sklearn.pipeline import Pipeline\n",
        "from sklearn.metrics import mean_squared_error, r2_score\n",
        "import numpy as np\n",
        "from funcs_aux import rolling_sales\n"
      ]
    },
    {
      "cell_type": "code",
      "execution_count": 7,
      "id": "7e21ab6f",
      "metadata": {
        "id": "7e21ab6f"
      },
      "outputs": [],
      "source": [
        "data = pd.read_csv(\"drive/MyDrive/datos_unidos.csv\")"
      ]
    },
    {
      "cell_type": "code",
      "execution_count": 9,
      "id": "bfcf5768",
      "metadata": {
        "id": "bfcf5768",
        "outputId": "86080f7d-d8eb-4f71-eb5f-2d9684168c14",
        "colab": {
          "base_uri": "https://localhost:8080/"
        }
      },
      "outputs": [
        {
          "output_type": "stream",
          "name": "stdout",
          "text": [
            "Index(['SKU', 'DATE', 'STORE_ID', 'PRICE', 'QUANTITY', 'TOTAL_SALES', 'REGION',\n",
            "       'CITY', 'STATE', 'STORE_TYPE', 'OPENDATE', 'CLOSEDATE',\n",
            "       'STORE_SUBGROUP_DATE_ID', 'CATEGORY', 'GROUP', 'SUBGROUP', 'GROUP_TYPE',\n",
            "       'PRICE_GROUP_ID', 'BRAND', 'INITIAL_TICKET_PRICE', 'BASE_PRICE',\n",
            "       'COSTOS', 'YEAR_OPEN', 'YEAR_CLOSE', 'MONTH_OPEN', 'MONTH_CLOSE',\n",
            "       'YEAR', 'MONTH', 'DAY', 'DAY_OF_WEEK', 'WEEK'],\n",
            "      dtype='object')\n"
          ]
        }
      ],
      "source": [
        "print(data.columns)"
      ]
    },
    {
      "cell_type": "code",
      "execution_count": 10,
      "id": "15ef29d6",
      "metadata": {
        "id": "15ef29d6",
        "outputId": "b7eb78fe-8c01-4b09-daac-50d75a96ed06",
        "colab": {
          "base_uri": "https://localhost:8080/"
        }
      },
      "outputs": [
        {
          "output_type": "stream",
          "name": "stdout",
          "text": [
            "          SKU        DATE STORE_ID  PRICE  QUANTITY  TOTAL_SALES     REGION  \\\n",
            "0  BEAHASH001  2021-01-01   S00068  35.53        10       355.30       West   \n",
            "1  BEAHASH001  2021-01-01   S00086  33.52         2        67.04  Southeast   \n",
            "2  BEAHASH001  2021-01-01   S00124  37.61         2        75.22  Northeast   \n",
            "3  BEAHASH001  2021-01-01   S00140  34.51         4       138.04  Southeast   \n",
            "4  BEAHASH001  2021-01-02   S00013  33.77         1        33.77  Southwest   \n",
            "\n",
            "         CITY STATE STORE_TYPE  ... COSTOS YEAR_OPEN YEAR_CLOSE MONTH_OPEN  \\\n",
            "0    Lakewood    CO    Express  ...  15.07      2018       2025         11   \n",
            "1     Raleigh    NC    Express  ...  15.07      2011       2025         12   \n",
            "2        Erie    PA     Outlet  ...  15.07      2018       2025          5   \n",
            "3  Greenville    SC       Mall  ...  15.07      2011       2025          5   \n",
            "4     El Paso    TX       Mall  ...  15.07      2019       2025         10   \n",
            "\n",
            "  MONTH_CLOSE  YEAR MONTH DAY DAY_OF_WEEK  WEEK  \n",
            "0           1  2021     1   1      Friday    53  \n",
            "1           1  2021     1   1      Friday    53  \n",
            "2           1  2021     1   1      Friday    53  \n",
            "3           1  2021     1   1      Friday    53  \n",
            "4           1  2021     1   2    Saturday    53  \n",
            "\n",
            "[5 rows x 31 columns]\n"
          ]
        }
      ],
      "source": [
        "print(data.head())"
      ]
    },
    {
      "cell_type": "code",
      "source": [
        "print(len(data))"
      ],
      "metadata": {
        "colab": {
          "base_uri": "https://localhost:8080/"
        },
        "id": "IYXVvfrXlHC7",
        "outputId": "1a7b549a-983c-46d2-d730-1f8a4d2a2e24"
      },
      "id": "IYXVvfrXlHC7",
      "execution_count": 11,
      "outputs": [
        {
          "output_type": "stream",
          "name": "stdout",
          "text": [
            "6825953\n"
          ]
        }
      ]
    },
    {
      "cell_type": "markdown",
      "id": "e4e3c546",
      "metadata": {
        "id": "e4e3c546"
      },
      "source": [
        "## Rolling Features"
      ]
    },
    {
      "cell_type": "markdown",
      "id": "dc16b8a2",
      "metadata": {
        "id": "dc16b8a2"
      },
      "source": [
        "Incluimos medias moviles y desviaciones estandar para captar dinamica temporal. Estas las calculamos teniendo en cuenta los dias de cero ventas. Debido a recursos computacionales no podemos expandir todo el dataset."
      ]
    },
    {
      "cell_type": "code",
      "source": [
        "# Medias/desviaciones móviles por SKU\n",
        "data = rolling_sales(data, group='SKU', windows=[7, 30, 90], std=True)\n",
        "\n",
        "# Medias/desviaciones móviles por SUBGROUP\n",
        "data = rolling_sales(data, group='SUBGROUP', windows=[7, 30, 90], std=True)\n",
        "\n",
        "# Medias/desviaciones móviles por STORE_ID\n",
        "data = rolling_sales(data, group='STORE_ID', windows=[7, 30, 90], std=True)"
      ],
      "metadata": {
        "colab": {
          "base_uri": "https://localhost:8080/",
          "height": 408
        },
        "id": "ZfTlQaeQ18XI",
        "outputId": "9e3a5662-5629-4b56-9ce6-f09046d38d7b"
      },
      "id": "ZfTlQaeQ18XI",
      "execution_count": 22,
      "outputs": [
        {
          "output_type": "error",
          "ename": "KeyError",
          "evalue": "\"['S', 'K', 'U', '_', 's', 't', 'd', '7', 'D'] not in index\"",
          "traceback": [
            "\u001b[0;31m---------------------------------------------------------------------------\u001b[0m",
            "\u001b[0;31mKeyError\u001b[0m                                  Traceback (most recent call last)",
            "\u001b[0;32m/tmp/ipython-input-922411281.py\u001b[0m in \u001b[0;36m<cell line: 0>\u001b[0;34m()\u001b[0m\n\u001b[1;32m      1\u001b[0m \u001b[0;31m# Medias/desviaciones móviles por SKU\u001b[0m\u001b[0;34m\u001b[0m\u001b[0;34m\u001b[0m\u001b[0m\n\u001b[0;32m----> 2\u001b[0;31m \u001b[0mdata\u001b[0m \u001b[0;34m=\u001b[0m \u001b[0mrolling_sales\u001b[0m\u001b[0;34m(\u001b[0m\u001b[0mdata\u001b[0m\u001b[0;34m,\u001b[0m \u001b[0mgroup\u001b[0m\u001b[0;34m=\u001b[0m\u001b[0;34m'SKU'\u001b[0m\u001b[0;34m,\u001b[0m \u001b[0mwindows\u001b[0m\u001b[0;34m=\u001b[0m\u001b[0;34m[\u001b[0m\u001b[0;36m7\u001b[0m\u001b[0;34m,\u001b[0m \u001b[0;36m30\u001b[0m\u001b[0;34m,\u001b[0m \u001b[0;36m90\u001b[0m\u001b[0;34m]\u001b[0m\u001b[0;34m,\u001b[0m \u001b[0mstd\u001b[0m\u001b[0;34m=\u001b[0m\u001b[0;32mTrue\u001b[0m\u001b[0;34m)\u001b[0m\u001b[0;34m\u001b[0m\u001b[0;34m\u001b[0m\u001b[0m\n\u001b[0m\u001b[1;32m      3\u001b[0m \u001b[0;34m\u001b[0m\u001b[0m\n\u001b[1;32m      4\u001b[0m \u001b[0;31m# Medias/desviaciones móviles por SUBGROUP\u001b[0m\u001b[0;34m\u001b[0m\u001b[0;34m\u001b[0m\u001b[0m\n\u001b[1;32m      5\u001b[0m \u001b[0mdata\u001b[0m \u001b[0;34m=\u001b[0m \u001b[0mrolling_sales\u001b[0m\u001b[0;34m(\u001b[0m\u001b[0mdata\u001b[0m\u001b[0;34m,\u001b[0m \u001b[0mgroup\u001b[0m\u001b[0;34m=\u001b[0m\u001b[0;34m'SUBGROUP'\u001b[0m\u001b[0;34m,\u001b[0m \u001b[0mwindows\u001b[0m\u001b[0;34m=\u001b[0m\u001b[0;34m[\u001b[0m\u001b[0;36m7\u001b[0m\u001b[0;34m,\u001b[0m \u001b[0;36m30\u001b[0m\u001b[0;34m,\u001b[0m \u001b[0;36m90\u001b[0m\u001b[0;34m]\u001b[0m\u001b[0;34m,\u001b[0m \u001b[0mstd\u001b[0m\u001b[0;34m=\u001b[0m\u001b[0;32mTrue\u001b[0m\u001b[0;34m)\u001b[0m\u001b[0;34m\u001b[0m\u001b[0;34m\u001b[0m\u001b[0m\n",
            "\u001b[0;32m/content/funcs_aux.py\u001b[0m in \u001b[0;36mrolling_sales\u001b[0;34m(datos_unidos, group, windows, std)\u001b[0m\n\u001b[1;32m     43\u001b[0m             \u001b[0mmerge_cols\u001b[0m\u001b[0;34m.\u001b[0m\u001b[0mappend\u001b[0m\u001b[0;34m(\u001b[0m\u001b[0mnueva_col_std\u001b[0m\u001b[0;34m)\u001b[0m\u001b[0;34m\u001b[0m\u001b[0;34m\u001b[0m\u001b[0m\n\u001b[1;32m     44\u001b[0m \u001b[0;34m\u001b[0m\u001b[0m\n\u001b[0;32m---> 45\u001b[0;31m         \u001b[0mmerged\u001b[0m \u001b[0;34m=\u001b[0m \u001b[0mdatos_unidos\u001b[0m\u001b[0;34m.\u001b[0m\u001b[0mmerge\u001b[0m\u001b[0;34m(\u001b[0m\u001b[0msubgroup_daily\u001b[0m\u001b[0;34m[\u001b[0m\u001b[0mmerge_cols\u001b[0m\u001b[0;34m]\u001b[0m\u001b[0;34m,\u001b[0m \u001b[0mon\u001b[0m\u001b[0;34m=\u001b[0m\u001b[0;34m[\u001b[0m\u001b[0mgroup\u001b[0m\u001b[0;34m,\u001b[0m \u001b[0;34m'DATE'\u001b[0m\u001b[0;34m]\u001b[0m\u001b[0;34m,\u001b[0m \u001b[0mhow\u001b[0m\u001b[0;34m=\u001b[0m\u001b[0;34m'left'\u001b[0m\u001b[0;34m)\u001b[0m\u001b[0;34m\u001b[0m\u001b[0;34m\u001b[0m\u001b[0m\n\u001b[0m\u001b[1;32m     46\u001b[0m         \u001b[0mdatos_unidos\u001b[0m\u001b[0;34m[\u001b[0m\u001b[0mnueva_col_mean\u001b[0m\u001b[0;34m]\u001b[0m \u001b[0;34m=\u001b[0m \u001b[0mmerged\u001b[0m\u001b[0;34m[\u001b[0m\u001b[0mnueva_col_mean\u001b[0m\u001b[0;34m]\u001b[0m\u001b[0;34m\u001b[0m\u001b[0;34m\u001b[0m\u001b[0m\n\u001b[1;32m     47\u001b[0m \u001b[0;34m\u001b[0m\u001b[0m\n",
            "\u001b[0;32m/usr/local/lib/python3.11/dist-packages/pandas/core/frame.py\u001b[0m in \u001b[0;36m__getitem__\u001b[0;34m(self, key)\u001b[0m\n\u001b[1;32m   4106\u001b[0m             \u001b[0;32mif\u001b[0m \u001b[0mis_iterator\u001b[0m\u001b[0;34m(\u001b[0m\u001b[0mkey\u001b[0m\u001b[0;34m)\u001b[0m\u001b[0;34m:\u001b[0m\u001b[0;34m\u001b[0m\u001b[0;34m\u001b[0m\u001b[0m\n\u001b[1;32m   4107\u001b[0m                 \u001b[0mkey\u001b[0m \u001b[0;34m=\u001b[0m \u001b[0mlist\u001b[0m\u001b[0;34m(\u001b[0m\u001b[0mkey\u001b[0m\u001b[0;34m)\u001b[0m\u001b[0;34m\u001b[0m\u001b[0;34m\u001b[0m\u001b[0m\n\u001b[0;32m-> 4108\u001b[0;31m             \u001b[0mindexer\u001b[0m \u001b[0;34m=\u001b[0m \u001b[0mself\u001b[0m\u001b[0;34m.\u001b[0m\u001b[0mcolumns\u001b[0m\u001b[0;34m.\u001b[0m\u001b[0m_get_indexer_strict\u001b[0m\u001b[0;34m(\u001b[0m\u001b[0mkey\u001b[0m\u001b[0;34m,\u001b[0m \u001b[0;34m\"columns\"\u001b[0m\u001b[0;34m)\u001b[0m\u001b[0;34m[\u001b[0m\u001b[0;36m1\u001b[0m\u001b[0;34m]\u001b[0m\u001b[0;34m\u001b[0m\u001b[0;34m\u001b[0m\u001b[0m\n\u001b[0m\u001b[1;32m   4109\u001b[0m \u001b[0;34m\u001b[0m\u001b[0m\n\u001b[1;32m   4110\u001b[0m         \u001b[0;31m# take() does not accept boolean indexers\u001b[0m\u001b[0;34m\u001b[0m\u001b[0;34m\u001b[0m\u001b[0m\n",
            "\u001b[0;32m/usr/local/lib/python3.11/dist-packages/pandas/core/indexes/base.py\u001b[0m in \u001b[0;36m_get_indexer_strict\u001b[0;34m(self, key, axis_name)\u001b[0m\n\u001b[1;32m   6198\u001b[0m             \u001b[0mkeyarr\u001b[0m\u001b[0;34m,\u001b[0m \u001b[0mindexer\u001b[0m\u001b[0;34m,\u001b[0m \u001b[0mnew_indexer\u001b[0m \u001b[0;34m=\u001b[0m \u001b[0mself\u001b[0m\u001b[0;34m.\u001b[0m\u001b[0m_reindex_non_unique\u001b[0m\u001b[0;34m(\u001b[0m\u001b[0mkeyarr\u001b[0m\u001b[0;34m)\u001b[0m\u001b[0;34m\u001b[0m\u001b[0;34m\u001b[0m\u001b[0m\n\u001b[1;32m   6199\u001b[0m \u001b[0;34m\u001b[0m\u001b[0m\n\u001b[0;32m-> 6200\u001b[0;31m         \u001b[0mself\u001b[0m\u001b[0;34m.\u001b[0m\u001b[0m_raise_if_missing\u001b[0m\u001b[0;34m(\u001b[0m\u001b[0mkeyarr\u001b[0m\u001b[0;34m,\u001b[0m \u001b[0mindexer\u001b[0m\u001b[0;34m,\u001b[0m \u001b[0maxis_name\u001b[0m\u001b[0;34m)\u001b[0m\u001b[0;34m\u001b[0m\u001b[0;34m\u001b[0m\u001b[0m\n\u001b[0m\u001b[1;32m   6201\u001b[0m \u001b[0;34m\u001b[0m\u001b[0m\n\u001b[1;32m   6202\u001b[0m         \u001b[0mkeyarr\u001b[0m \u001b[0;34m=\u001b[0m \u001b[0mself\u001b[0m\u001b[0;34m.\u001b[0m\u001b[0mtake\u001b[0m\u001b[0;34m(\u001b[0m\u001b[0mindexer\u001b[0m\u001b[0;34m)\u001b[0m\u001b[0;34m\u001b[0m\u001b[0;34m\u001b[0m\u001b[0m\n",
            "\u001b[0;32m/usr/local/lib/python3.11/dist-packages/pandas/core/indexes/base.py\u001b[0m in \u001b[0;36m_raise_if_missing\u001b[0;34m(self, key, indexer, axis_name)\u001b[0m\n\u001b[1;32m   6250\u001b[0m \u001b[0;34m\u001b[0m\u001b[0m\n\u001b[1;32m   6251\u001b[0m             \u001b[0mnot_found\u001b[0m \u001b[0;34m=\u001b[0m \u001b[0mlist\u001b[0m\u001b[0;34m(\u001b[0m\u001b[0mensure_index\u001b[0m\u001b[0;34m(\u001b[0m\u001b[0mkey\u001b[0m\u001b[0;34m)\u001b[0m\u001b[0;34m[\u001b[0m\u001b[0mmissing_mask\u001b[0m\u001b[0;34m.\u001b[0m\u001b[0mnonzero\u001b[0m\u001b[0;34m(\u001b[0m\u001b[0;34m)\u001b[0m\u001b[0;34m[\u001b[0m\u001b[0;36m0\u001b[0m\u001b[0;34m]\u001b[0m\u001b[0;34m]\u001b[0m\u001b[0;34m.\u001b[0m\u001b[0munique\u001b[0m\u001b[0;34m(\u001b[0m\u001b[0;34m)\u001b[0m\u001b[0;34m)\u001b[0m\u001b[0;34m\u001b[0m\u001b[0;34m\u001b[0m\u001b[0m\n\u001b[0;32m-> 6252\u001b[0;31m             \u001b[0;32mraise\u001b[0m \u001b[0mKeyError\u001b[0m\u001b[0;34m(\u001b[0m\u001b[0;34mf\"{not_found} not in index\"\u001b[0m\u001b[0;34m)\u001b[0m\u001b[0;34m\u001b[0m\u001b[0;34m\u001b[0m\u001b[0m\n\u001b[0m\u001b[1;32m   6253\u001b[0m \u001b[0;34m\u001b[0m\u001b[0m\n\u001b[1;32m   6254\u001b[0m     \u001b[0;34m@\u001b[0m\u001b[0moverload\u001b[0m\u001b[0;34m\u001b[0m\u001b[0;34m\u001b[0m\u001b[0m\n",
            "\u001b[0;31mKeyError\u001b[0m: \"['S', 'K', 'U', '_', 's', 't', 'd', '7', 'D'] not in index\""
          ]
        }
      ]
    },
    {
      "cell_type": "code",
      "execution_count": null,
      "id": "741c4364",
      "metadata": {
        "id": "741c4364"
      },
      "outputs": [],
      "source": [
        "print(data.columns)"
      ]
    },
    {
      "cell_type": "code",
      "execution_count": null,
      "id": "ef63c826",
      "metadata": {
        "id": "ef63c826"
      },
      "outputs": [],
      "source": [
        "print(data.memory_usage) # Verificamos cuanta memoria ocupa ahora"
      ]
    },
    {
      "cell_type": "code",
      "execution_count": null,
      "id": "fca542a2",
      "metadata": {
        "id": "fca542a2"
      },
      "outputs": [],
      "source": [
        "data.to_csv(\"../data/procesados/datos_rolling.csv\")"
      ]
    },
    {
      "cell_type": "markdown",
      "source": [
        "## Linear Regression"
      ],
      "metadata": {
        "id": "Se5AX_MW2HJV"
      },
      "id": "Se5AX_MW2HJV"
    },
    {
      "cell_type": "markdown",
      "id": "cb1c53d7",
      "metadata": {
        "id": "cb1c53d7"
      },
      "source": [
        "Entrenamos con el primer 10% a ver como se comporta"
      ]
    },
    {
      "cell_type": "code",
      "execution_count": null,
      "id": "06338caa",
      "metadata": {
        "id": "06338caa"
      },
      "outputs": [],
      "source": [
        "df_10pct_series = data.groupby(['SKU', 'Store_ID'], group_keys=False).apply(lambda x: x.head(int(len(x) * 0.1)))"
      ]
    },
    {
      "cell_type": "code",
      "execution_count": null,
      "id": "2c6738ea",
      "metadata": {
        "id": "2c6738ea"
      },
      "outputs": [],
      "source": [
        "X = df_10pct_series[categorical_cols + numeric_cols]  # variables predictoras\n",
        "y = df_10pct_series['TOTAL_SALES']                    # variable objetivo"
      ]
    },
    {
      "cell_type": "code",
      "execution_count": null,
      "id": "d833c462",
      "metadata": {
        "id": "d833c462"
      },
      "outputs": [],
      "source": [
        "# OneHotEncoder para variables categóricas (transforma texto en variables binarias)\n",
        "categorical_transformer = OneHotEncoder(handle_unknown='ignore')\n",
        "\n",
        "# Passthrough para variables numéricas (se dejan igual)\n",
        "numeric_transformer = 'passthrough'\n",
        "\n",
        "# ColumnTransformer aplica transformaciones diferentes a columnas distintas\n",
        "preprocessor = ColumnTransformer(\n",
        "    transformers=[\n",
        "        ('categorical', categorical_transformer, categorical_cols),\n",
        "        ('numeric', numeric_transformer, numeric_cols)\n",
        "    ]\n",
        ")"
      ]
    },
    {
      "cell_type": "code",
      "execution_count": null,
      "id": "5ec035d9",
      "metadata": {
        "id": "5ec035d9",
        "outputId": "65d594a3-f686-4288-bd1c-64e86822a3e8"
      },
      "outputs": [
        {
          "ename": "NameError",
          "evalue": "name 'Pipeline' is not defined",
          "output_type": "error",
          "traceback": [
            "\u001b[31m---------------------------------------------------------------------------\u001b[39m",
            "\u001b[31mNameError\u001b[39m                                 Traceback (most recent call last)",
            "\u001b[36mCell\u001b[39m\u001b[36m \u001b[39m\u001b[32mIn[5]\u001b[39m\u001b[32m, line 2\u001b[39m\n\u001b[32m      1\u001b[39m \u001b[38;5;66;03m# Combina el preprocesador y el modelo en un solo flujo\u001b[39;00m\n\u001b[32m----> \u001b[39m\u001b[32m2\u001b[39m model = \u001b[43mPipeline\u001b[49m(steps=[\n\u001b[32m      3\u001b[39m     (\u001b[33m'\u001b[39m\u001b[33mpreprocessor\u001b[39m\u001b[33m'\u001b[39m, preprocessor),\n\u001b[32m      4\u001b[39m     (\u001b[33m'\u001b[39m\u001b[33mregressor\u001b[39m\u001b[33m'\u001b[39m, LinearRegression())\n\u001b[32m      5\u001b[39m ])\n",
            "\u001b[31mNameError\u001b[39m: name 'Pipeline' is not defined"
          ]
        }
      ],
      "source": [
        "# Definimos el Pipeline\n",
        "# Combina el preprocesador y el modelo en un solo flujo\n",
        "model = Pipeline(steps=[\n",
        "    ('preprocessor', preprocessor),\n",
        "    ('regressor', LinearRegression())\n",
        "])"
      ]
    },
    {
      "cell_type": "code",
      "execution_count": null,
      "id": "135d6584",
      "metadata": {
        "id": "135d6584",
        "outputId": "5f4d9a45-04b4-45a9-a98b-c97ca8e38f2d"
      },
      "outputs": [
        {
          "ename": "NameError",
          "evalue": "name 'train_test_split' is not defined",
          "output_type": "error",
          "traceback": [
            "\u001b[31m---------------------------------------------------------------------------\u001b[39m",
            "\u001b[31mNameError\u001b[39m                                 Traceback (most recent call last)",
            "\u001b[36mCell\u001b[39m\u001b[36m \u001b[39m\u001b[32mIn[6]\u001b[39m\u001b[32m, line 1\u001b[39m\n\u001b[32m----> \u001b[39m\u001b[32m1\u001b[39m X_train, X_test, y_train, y_test = \u001b[43mtrain_test_split\u001b[49m(\n\u001b[32m      2\u001b[39m     X, y, test_size=\u001b[32m0.2\u001b[39m, random_state=\u001b[32m42\u001b[39m\n\u001b[32m      3\u001b[39m )\n",
            "\u001b[31mNameError\u001b[39m: name 'train_test_split' is not defined"
          ]
        }
      ],
      "source": [
        "# Dividimos los datos\n",
        "X_train, X_test, y_train, y_test = train_test_split(\n",
        "    X, y, test_size=0.2, random_state=42\n",
        ")"
      ]
    },
    {
      "cell_type": "code",
      "execution_count": null,
      "id": "66d3b88f",
      "metadata": {
        "id": "66d3b88f"
      },
      "outputs": [],
      "source": [
        "model.fit(X_train, y_train)"
      ]
    },
    {
      "cell_type": "code",
      "execution_count": null,
      "id": "a9b886ab",
      "metadata": {
        "id": "a9b886ab"
      },
      "outputs": [],
      "source": [
        "y_pred = model.predict(X_test)"
      ]
    },
    {
      "cell_type": "code",
      "execution_count": null,
      "id": "25091194",
      "metadata": {
        "id": "25091194"
      },
      "outputs": [],
      "source": [
        "# Métricas\n",
        "rmse = np.sqrt(mean_squared_error(y_test, y_pred))\n",
        "r2 = r2_score(y_test, y_pred)\n",
        "\n",
        "print(f\"RMSE: {rmse:.2f}\")\n",
        "print(f\"R²: {r2:.4f}\")"
      ]
    },
    {
      "cell_type": "markdown",
      "source": [
        "puta"
      ],
      "metadata": {
        "id": "p0EdkwskQQz3"
      },
      "id": "p0EdkwskQQz3"
    }
  ],
  "metadata": {
    "kernelspec": {
      "display_name": "Python 3",
      "name": "python3"
    },
    "language_info": {
      "codemirror_mode": {
        "name": "ipython",
        "version": 3
      },
      "file_extension": ".py",
      "mimetype": "text/x-python",
      "name": "python",
      "nbconvert_exporter": "python",
      "pygments_lexer": "ipython3",
      "version": "3.11.5"
    },
    "colab": {
      "provenance": [],
      "include_colab_link": true
    }
  },
  "nbformat": 4,
  "nbformat_minor": 5
}