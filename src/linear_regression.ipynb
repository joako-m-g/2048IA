{
  "cells": [
    {
      "cell_type": "markdown",
      "id": "1b37f515",
      "metadata": {
        "id": "1b37f515"
      },
      "source": [
        "### Set Up"
      ]
    },
    {
      "cell_type": "code",
      "execution_count": null,
      "id": "aca02d39",
      "metadata": {
        "id": "aca02d39"
      },
      "outputs": [],
      "source": [
        "import pandas as pd\n",
        "import pandas as pd\n",
        "from sklearn.model_selection import train_test_split\n",
        "from sklearn.preprocessing import OneHotEncoder\n",
        "from sklearn.compose import ColumnTransformer\n",
        "from sklearn.linear_model import LinearRegression\n",
        "from sklearn.pipeline import Pipeline\n",
        "from sklearn.metrics import mean_squared_error, r2_score\n",
        "import numpy as np"
      ]
    },
    {
      "cell_type": "code",
      "execution_count": null,
      "id": "7e21ab6f",
      "metadata": {
        "id": "7e21ab6f"
      },
      "outputs": [],
      "source": [
        "data = pd.read_csv(\"../data/procesados/datos_unidos.csv\")"
      ]
    },
    {
      "cell_type": "code",
      "execution_count": null,
      "id": "bfcf5768",
      "metadata": {
        "id": "bfcf5768",
        "outputId": "91761550-a1f0-4951-88e2-991437b97162"
      },
      "outputs": [
        {
          "name": "stdout",
          "output_type": "stream",
          "text": [
            "Index(['SKU', 'DATE', 'STORE_ID', 'PRICE', 'QUANTITY', 'TOTAL_SALES', 'REGION',\n",
            "       'CITY', 'STATE', 'STORE_TYPE', 'OPENDATE', 'CLOSEDATE',\n",
            "       'STORE_SUBGROUP_DATE_ID', 'CATEGORY', 'GROUP', 'SUBGROUP', 'GROUP_TYPE',\n",
            "       'PRICE_GROUP_ID', 'BRAND', 'INITIAL_TICKET_PRICE', 'BASE_PRICE',\n",
            "       'COSTOS', 'YEAR_OPEN', 'YEAR_CLOSE', 'MONTH_OPEN', 'MONTH_CLOSE',\n",
            "       'YEAR', 'MONTH', 'DAY', 'DAY_OF_WEEK', 'WEEK'],\n",
            "      dtype='object')\n"
          ]
        }
      ],
      "source": [
        "print(data.columns)"
      ]
    },
    {
      "cell_type": "code",
      "execution_count": null,
      "id": "15ef29d6",
      "metadata": {
        "id": "15ef29d6",
        "outputId": "c306327e-f648-4f06-c7e1-c0093241aa67"
      },
      "outputs": [
        {
          "name": "stdout",
          "output_type": "stream",
          "text": [
            "          SKU        DATE STORE_ID  PRICE  QUANTITY  TOTAL_SALES     REGION  \\\n",
            "0  BEAHASH001  2021-01-01   S00068  35.53        10       355.30       West   \n",
            "1  BEAHASH001  2021-01-01   S00086  33.52         2        67.04  Southeast   \n",
            "2  BEAHASH001  2021-01-01   S00124  37.61         2        75.22  Northeast   \n",
            "3  BEAHASH001  2021-01-01   S00140  34.51         4       138.04  Southeast   \n",
            "4  BEAHASH001  2021-01-02   S00013  33.77         1        33.77  Southwest   \n",
            "\n",
            "         CITY STATE STORE_TYPE  ... COSTOS YEAR_OPEN YEAR_CLOSE MONTH_OPEN  \\\n",
            "0    Lakewood    CO    Express  ...  15.07      2018       2025         11   \n",
            "1     Raleigh    NC    Express  ...  15.07      2011       2025         12   \n",
            "2        Erie    PA     Outlet  ...  15.07      2018       2025          5   \n",
            "3  Greenville    SC       Mall  ...  15.07      2011       2025          5   \n",
            "4     El Paso    TX       Mall  ...  15.07      2019       2025         10   \n",
            "\n",
            "  MONTH_CLOSE  YEAR MONTH DAY DAY_OF_WEEK  WEEK  \n",
            "0           1  2021     1   1      Friday    53  \n",
            "1           1  2021     1   1      Friday    53  \n",
            "2           1  2021     1   1      Friday    53  \n",
            "3           1  2021     1   1      Friday    53  \n",
            "4           1  2021     1   2    Saturday    53  \n",
            "\n",
            "[5 rows x 31 columns]\n"
          ]
        }
      ],
      "source": [
        "print(data.head())"
      ]
    },
    {
      "cell_type": "code",
      "execution_count": null,
      "id": "16b5b3ba",
      "metadata": {
        "id": "16b5b3ba",
        "outputId": "6a43f902-1e81-49e9-cf35-9cfbe96294ed"
      },
      "outputs": [
        {
          "name": "stdout",
          "output_type": "stream",
          "text": [
            "Index                          132\n",
            "SKU                       54607624\n",
            "DATE                      54607624\n",
            "STORE_ID                  54607624\n",
            "PRICE                     54607624\n",
            "QUANTITY                  54607624\n",
            "TOTAL_SALES               54607624\n",
            "REGION                    54607624\n",
            "CITY                      54607624\n",
            "STATE                     54607624\n",
            "STORE_TYPE                54607624\n",
            "OPENDATE                  54607624\n",
            "CLOSEDATE                 54607624\n",
            "STORE_SUBGROUP_DATE_ID    54607624\n",
            "CATEGORY                  54607624\n",
            "GROUP                     54607624\n",
            "SUBGROUP                  54607624\n",
            "GROUP_TYPE                54607624\n",
            "PRICE_GROUP_ID            54607624\n",
            "BRAND                     54607624\n",
            "INITIAL_TICKET_PRICE      54607624\n",
            "BASE_PRICE                54607624\n",
            "COSTOS                    54607624\n",
            "YEAR_OPEN                 54607624\n",
            "YEAR_CLOSE                54607624\n",
            "MONTH_OPEN                54607624\n",
            "MONTH_CLOSE               54607624\n",
            "YEAR                      54607624\n",
            "MONTH                     54607624\n",
            "DAY                       54607624\n",
            "DAY_OF_WEEK               54607624\n",
            "WEEK                      54607624\n",
            "dtype: int64\n"
          ]
        }
      ],
      "source": [
        "print(data.memory_usage())"
      ]
    },
    {
      "cell_type": "markdown",
      "id": "e4e3c546",
      "metadata": {
        "id": "e4e3c546"
      },
      "source": [
        "## Rolling Features"
      ]
    },
    {
      "cell_type": "markdown",
      "id": "dc16b8a2",
      "metadata": {
        "id": "dc16b8a2"
      },
      "source": [
        "Incluimos medias moviles y desviaciones estandar para captar dinamica temporal. Estas las calculamos teniendo en cuenta los dias de cero ventas. Debido a recursos computacionales no podemos expandir todo el dataset."
      ]
    },
    {
      "cell_type": "code",
      "execution_count": null,
      "id": "7f985ada",
      "metadata": {
        "id": "7f985ada"
      },
      "outputs": [],
      "source": [
        "def create_rolling_features(\n",
        "    df,\n",
        "    definitions,\n",
        "    mean_windows=None,\n",
        "    std_windows=None\n",
        "):\n",
        "    \"\"\"\n",
        "    Crea lags y rolling features por SKU y Store_ID considerando días faltantes.\n",
        "\n",
        "    df: DataFrame con columnas ['SKU', 'Store_ID', 'Date', ...]\n",
        "    definitions: lista de columnas sobre las cuales calcular lags/rolling\n",
        "    mean_windows: lista con ventanas para calcular medias móviles (ej. [7, 30, 90])\n",
        "    std_windows: lista con ventanas para calcular desviaciones móviles (ej. [7, 30])\n",
        "\n",
        "    Retorna df con las nuevas columnas agregadas.\n",
        "    \"\"\"\n",
        "\n",
        "    df = df.copy()\n",
        "    df['DATE'] = pd.to_datetime(df['DATE'])\n",
        "\n",
        "    result_dfs = []\n",
        "\n",
        "    # Iterar sobre cada grupo SKU + Store_ID\n",
        "    for (sku, store), group in df.groupby(['SKU', 'STORE_ID']):\n",
        "        # Crear rango completo de fechas\n",
        "        full_dates = pd.DataFrame({'DATE': pd.date_range(group['DATE'].min(), group['DATE'].max())})\n",
        "        full_group = full_dates.merge(group, on='DATE', how='left')\n",
        "        full_group['SKU'] = sku\n",
        "        full_group['STORE_ID'] = store\n",
        "\n",
        "        for col in definitions:\n",
        "            full_group[col] = full_group[col].fillna(0)\n",
        "\n",
        "            # Lags fijos\n",
        "            full_group[f'{col}_lag_1'] = full_group[col].shift(1)\n",
        "            full_group[f'{col}_lag_7'] = full_group[col].shift(7)\n",
        "\n",
        "            # Rolling means\n",
        "            if mean_windows:\n",
        "                for w in mean_windows:\n",
        "                    full_group[f'{col}_rolling_mean_{w}'] = (\n",
        "                        full_group[col].shift(1).rolling(window=w, min_periods=1).mean()\n",
        "                    )\n",
        "\n",
        "            # Rolling stds\n",
        "            if std_windows:\n",
        "                for w in std_windows:\n",
        "                    full_group[f'{col}_rolling_std_{w}'] = (\n",
        "                        full_group[col].shift(1).rolling(window=w, min_periods=1).std()\n",
        "                    )\n",
        "\n",
        "        result_dfs.append(full_group)\n",
        "\n",
        "    df_final = pd.concat(result_dfs, ignore_index=True)\n",
        "    df_final = df_final.sort_values(['SKU', 'STORE_ID', 'DATE'])\n",
        "\n",
        "    return df_final"
      ]
    },
    {
      "cell_type": "markdown",
      "id": "65ebc0d2",
      "metadata": {
        "id": "65ebc0d2"
      },
      "source": [
        "## Linear Regression"
      ]
    },
    {
      "cell_type": "markdown",
      "id": "c1de5a1d",
      "metadata": {
        "id": "c1de5a1d"
      },
      "source": [
        "Separamos columnas categoricas y numericas."
      ]
    },
    {
      "cell_type": "code",
      "execution_count": null,
      "id": "9e82fb31",
      "metadata": {
        "id": "9e82fb31"
      },
      "outputs": [],
      "source": [
        "categorical_cols = [\n",
        "    'SKU',\n",
        "    'REGION',\n",
        "    'CITY',\n",
        "    'STATE',\n",
        "    'STORE_TYPE',\n",
        "    'STORE_SUBGROUP_DATE_ID',\n",
        "    'CATEGORY',\n",
        "    'GROUP',\n",
        "    'SUBGROUP',\n",
        "    'GROUP_TYPE',\n",
        "    'PRICE_GROUP_ID',\n",
        "    'BRAND'\n",
        "]"
      ]
    },
    {
      "cell_type": "code",
      "execution_count": null,
      "id": "5c49f367",
      "metadata": {
        "id": "5c49f367"
      },
      "outputs": [],
      "source": [
        "numeric_cols = [\n",
        "    'PRICE',\n",
        "    'QUANTITY',\n",
        "    'TOTAL_SALES',\n",
        "    'INITIAL_TICKET_PRICE',\n",
        "    'BASE_PRICE',\n",
        "    'COSTOS',\n",
        "    'YEAR_OPEN',\n",
        "    'YEAR_CLOSE',\n",
        "    'MONTH_OPEN',\n",
        "    'MONTH_CLOSE',\n",
        "    'YEAR',\n",
        "    'MONTH',\n",
        "    'DAY',\n",
        "    'DAY_OF_WEEK',\n",
        "    'WEEK'\n",
        "]"
      ]
    },
    {
      "cell_type": "code",
      "execution_count": null,
      "id": "edb80630",
      "metadata": {
        "id": "edb80630"
      },
      "outputs": [],
      "source": [
        "date_cols = [\n",
        "    'DATE',\n",
        "    'OPENDATE',\n",
        "    'CLOSEDATE'\n",
        "]"
      ]
    },
    {
      "cell_type": "markdown",
      "id": "3a4bfc60",
      "metadata": {
        "id": "3a4bfc60"
      },
      "source": [
        "Agregamos rolling features"
      ]
    },
    {
      "cell_type": "code",
      "execution_count": null,
      "id": "43128f93",
      "metadata": {
        "id": "43128f93"
      },
      "outputs": [],
      "source": [
        "data = create_rolling_features(data, ['QUANTITY', 'PRICE', 'TOTAL_SALES', 'COSTOS'], mean_windows = [7, 30, 90],\n",
        "std_windows = [7, 30, 90])"
      ]
    },
    {
      "cell_type": "code",
      "execution_count": null,
      "id": "741c4364",
      "metadata": {
        "id": "741c4364"
      },
      "outputs": [],
      "source": [
        "print(data.columns)"
      ]
    },
    {
      "cell_type": "code",
      "execution_count": null,
      "id": "ef63c826",
      "metadata": {
        "id": "ef63c826"
      },
      "outputs": [],
      "source": [
        "print(data.memory_usage) # Verificamos cuanta memoria ocupa ahora"
      ]
    },
    {
      "cell_type": "code",
      "execution_count": null,
      "id": "fca542a2",
      "metadata": {
        "id": "fca542a2"
      },
      "outputs": [],
      "source": [
        "data.to_csv(\"../data/procesados/datos_rolling.csv\")"
      ]
    },
    {
      "cell_type": "markdown",
      "id": "cb1c53d7",
      "metadata": {
        "id": "cb1c53d7"
      },
      "source": [
        "Entrenamos con el primer 10% a ver como se comporta"
      ]
    },
    {
      "cell_type": "code",
      "execution_count": null,
      "id": "06338caa",
      "metadata": {
        "id": "06338caa"
      },
      "outputs": [],
      "source": [
        "df_10pct_series = data.groupby(['SKU', 'Store_ID'], group_keys=False).apply(lambda x: x.head(int(len(x) * 0.1)))"
      ]
    },
    {
      "cell_type": "code",
      "execution_count": null,
      "id": "2c6738ea",
      "metadata": {
        "id": "2c6738ea"
      },
      "outputs": [],
      "source": [
        "X = df_10pct_series[categorical_cols + numeric_cols]  # variables predictoras\n",
        "y = df_10pct_series['TOTAL_SALES']                    # variable objetivo"
      ]
    },
    {
      "cell_type": "code",
      "execution_count": null,
      "id": "d833c462",
      "metadata": {
        "id": "d833c462"
      },
      "outputs": [],
      "source": [
        "# OneHotEncoder para variables categóricas (transforma texto en variables binarias)\n",
        "categorical_transformer = OneHotEncoder(handle_unknown='ignore')\n",
        "\n",
        "# Passthrough para variables numéricas (se dejan igual)\n",
        "numeric_transformer = 'passthrough'\n",
        "\n",
        "# ColumnTransformer aplica transformaciones diferentes a columnas distintas\n",
        "preprocessor = ColumnTransformer(\n",
        "    transformers=[\n",
        "        ('categorical', categorical_transformer, categorical_cols),\n",
        "        ('numeric', numeric_transformer, numeric_cols)\n",
        "    ]\n",
        ")"
      ]
    },
    {
      "cell_type": "code",
      "execution_count": null,
      "id": "5ec035d9",
      "metadata": {
        "id": "5ec035d9",
        "outputId": "65d594a3-f686-4288-bd1c-64e86822a3e8"
      },
      "outputs": [
        {
          "ename": "NameError",
          "evalue": "name 'Pipeline' is not defined",
          "output_type": "error",
          "traceback": [
            "\u001b[31m---------------------------------------------------------------------------\u001b[39m",
            "\u001b[31mNameError\u001b[39m                                 Traceback (most recent call last)",
            "\u001b[36mCell\u001b[39m\u001b[36m \u001b[39m\u001b[32mIn[5]\u001b[39m\u001b[32m, line 2\u001b[39m\n\u001b[32m      1\u001b[39m \u001b[38;5;66;03m# Combina el preprocesador y el modelo en un solo flujo\u001b[39;00m\n\u001b[32m----> \u001b[39m\u001b[32m2\u001b[39m model = \u001b[43mPipeline\u001b[49m(steps=[\n\u001b[32m      3\u001b[39m     (\u001b[33m'\u001b[39m\u001b[33mpreprocessor\u001b[39m\u001b[33m'\u001b[39m, preprocessor),\n\u001b[32m      4\u001b[39m     (\u001b[33m'\u001b[39m\u001b[33mregressor\u001b[39m\u001b[33m'\u001b[39m, LinearRegression())\n\u001b[32m      5\u001b[39m ])\n",
            "\u001b[31mNameError\u001b[39m: name 'Pipeline' is not defined"
          ]
        }
      ],
      "source": [
        "# Definimos el Pipeline\n",
        "# Combina el preprocesador y el modelo en un solo flujo\n",
        "model = Pipeline(steps=[\n",
        "    ('preprocessor', preprocessor),\n",
        "    ('regressor', LinearRegression())\n",
        "])"
      ]
    },
    {
      "cell_type": "code",
      "execution_count": null,
      "id": "135d6584",
      "metadata": {
        "id": "135d6584",
        "outputId": "5f4d9a45-04b4-45a9-a98b-c97ca8e38f2d"
      },
      "outputs": [
        {
          "ename": "NameError",
          "evalue": "name 'train_test_split' is not defined",
          "output_type": "error",
          "traceback": [
            "\u001b[31m---------------------------------------------------------------------------\u001b[39m",
            "\u001b[31mNameError\u001b[39m                                 Traceback (most recent call last)",
            "\u001b[36mCell\u001b[39m\u001b[36m \u001b[39m\u001b[32mIn[6]\u001b[39m\u001b[32m, line 1\u001b[39m\n\u001b[32m----> \u001b[39m\u001b[32m1\u001b[39m X_train, X_test, y_train, y_test = \u001b[43mtrain_test_split\u001b[49m(\n\u001b[32m      2\u001b[39m     X, y, test_size=\u001b[32m0.2\u001b[39m, random_state=\u001b[32m42\u001b[39m\n\u001b[32m      3\u001b[39m )\n",
            "\u001b[31mNameError\u001b[39m: name 'train_test_split' is not defined"
          ]
        }
      ],
      "source": [
        "# Dividimos los datos\n",
        "X_train, X_test, y_train, y_test = train_test_split(\n",
        "    X, y, test_size=0.2, random_state=42\n",
        ")"
      ]
    },
    {
      "cell_type": "code",
      "execution_count": null,
      "id": "66d3b88f",
      "metadata": {
        "id": "66d3b88f"
      },
      "outputs": [],
      "source": [
        "model.fit(X_train, y_train)"
      ]
    },
    {
      "cell_type": "code",
      "execution_count": null,
      "id": "a9b886ab",
      "metadata": {
        "id": "a9b886ab"
      },
      "outputs": [],
      "source": [
        "y_pred = model.predict(X_test)"
      ]
    },
    {
      "cell_type": "code",
      "execution_count": null,
      "id": "25091194",
      "metadata": {
        "id": "25091194"
      },
      "outputs": [],
      "source": [
        "# Métricas\n",
        "rmse = np.sqrt(mean_squared_error(y_test, y_pred))\n",
        "r2 = r2_score(y_test, y_pred)\n",
        "\n",
        "print(f\"RMSE: {rmse:.2f}\")\n",
        "print(f\"R²: {r2:.4f}\")"
      ]
    },
    {
      "cell_type": "markdown",
      "source": [
        "puta"
      ],
      "metadata": {
        "id": "p0EdkwskQQz3"
      },
      "id": "p0EdkwskQQz3"
    }
  ],
  "metadata": {
    "kernelspec": {
      "display_name": "alix_env",
      "language": "python",
      "name": "python3"
    },
    "language_info": {
      "codemirror_mode": {
        "name": "ipython",
        "version": 3
      },
      "file_extension": ".py",
      "mimetype": "text/x-python",
      "name": "python",
      "nbconvert_exporter": "python",
      "pygments_lexer": "ipython3",
      "version": "3.11.5"
    },
    "colab": {
      "provenance": []
    }
  },
  "nbformat": 4,
  "nbformat_minor": 5
}